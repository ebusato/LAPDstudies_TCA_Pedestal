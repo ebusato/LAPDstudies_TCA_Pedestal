{
 "cells": [
  {
   "cell_type": "code",
   "execution_count": 30,
   "metadata": {
    "scrolled": false
   },
   "outputs": [
    {
     "data": {
      "text/plain": [
       "(array([  1.,   0.,   0.,   0.,   0.,   0.,   0.,   0.,   0.,   0.,   0.,\n",
       "          0.,   0.,   0.,   0.,   0.,   0.,   0.,   0.,   0.,   0.,   0.,\n",
       "         23.,  44.,  53.,  45.,  43.,  55.,  55.,  43.,  42.,  53.,  58.,\n",
       "         49.,  53.,  33.,  41.,  29.,  33.,  33.,  29.,  25.,  26.,  24.,\n",
       "         31.,  22.,  25.,  18.,  10.,   4.]),\n",
       " array([  517.08984375,   550.11660156,   583.14335938,   616.17011719,\n",
       "          649.196875  ,   682.22363281,   715.25039063,   748.27714844,\n",
       "          781.30390625,   814.33066406,   847.35742188,   880.38417969,\n",
       "          913.4109375 ,   946.43769531,   979.46445313,  1012.49121094,\n",
       "         1045.51796875,  1078.54472656,  1111.57148438,  1144.59824219,\n",
       "         1177.625     ,  1210.65175781,  1243.67851563,  1276.70527344,\n",
       "         1309.73203125,  1342.75878906,  1375.78554687,  1408.81230469,\n",
       "         1441.8390625 ,  1474.86582031,  1507.89257812,  1540.91933594,\n",
       "         1573.94609375,  1606.97285156,  1639.99960938,  1673.02636719,\n",
       "         1706.053125  ,  1739.07988281,  1772.10664062,  1805.13339844,\n",
       "         1838.16015625,  1871.18691406,  1904.21367188,  1937.24042969,\n",
       "         1970.2671875 ,  2003.29394531,  2036.32070313,  2069.34746094,\n",
       "         2102.37421875,  2135.40097656,  2168.42773438]),\n",
       " <a list of 50 Patch objects>)"
      ]
     },
     "execution_count": 30,
     "metadata": {},
     "output_type": "execute_result"
    },
    {
     "data": {
      "image/png": "[encoded data removed]",
      "text/plain": [
       "<matplotlib.figure.Figure at 0x7f965187c470>"
      ]
     },
     "metadata": {},
     "output_type": "display_data"
    }
   ],
   "source": [
    "%matplotlib inline\n",
    "import pandas as pd\n",
    "import matplotlib.pyplot as plt\n",
    "\n",
    "file = '/home/ebusato/Travail/gowork2/src/gitlab.in2p3.fr/avirm/analysis-go/dpgatca/analysis/pedestal/output.csv'\n",
    "\n",
    "df = pd.read_csv(file)\n",
    "\n",
    "df['ChanWithData240_160']\n",
    "\n",
    "plt.hist(df['ChanWithData240_160'], alpha=0.5, bins=50)\n",
    "plt.hist(df['ChanWithData240_162'], alpha=0.5, bins=50)"
   ]
  },
  {
   "cell_type": "code",
   "execution_count": null,
   "metadata": {
    "collapsed": true
   },
   "outputs": [],
   "source": []
  }
 ],
 "metadata": {
  "kernelspec": {
   "display_name": "Python 3",
   "language": "python",
   "name": "python3"
  },
  "language_info": {
   "codemirror_mode": {
    "name": "ipython",
    "version": 3
   },
   "file_extension": ".py",
   "mimetype": "text/x-python",
   "name": "python",
   "nbconvert_exporter": "python",
   "pygments_lexer": "ipython3",
   "version": "3.6.1"
  }
 },
 "nbformat": 4,
 "nbformat_minor": 2
}
